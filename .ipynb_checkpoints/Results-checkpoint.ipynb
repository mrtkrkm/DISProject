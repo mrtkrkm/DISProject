{
 "cells": [
  {
   "cell_type": "code",
   "execution_count": 1,
   "metadata": {},
   "outputs": [],
   "source": [
    "from Preprocess import PreProcess\n",
    "import pandas as pd\n",
    "import numpy as np\n",
    "from models.DecisionTreeRegressor import OurDecisionTreeRegressor\n",
    "from models.RandomForestRegressor import OurRandomForestRegressor\n",
    "from sklearn.tree import DecisionTreeRegressor\n",
    "from scoreFunc import Scores\n",
    "from sklearn.ensemble import RandomForestRegressor\n",
    "import  matplotlib.pyplot as plt\n",
    "from tqdm import notebook\n",
    "\n",
    "import warnings\n",
    "warnings.filterwarnings('ignore')"
   ]
  },
  {
   "cell_type": "code",
   "execution_count": 2,
   "metadata": {},
   "outputs": [],
   "source": [
    "df=pd.read_csv('data/jena_climate_2009_2016.csv')\n",
    "df[\"Date Time\"]=pd.to_datetime(df[\"Date Time\"])"
   ]
  },
  {
   "cell_type": "code",
   "execution_count": 3,
   "metadata": {},
   "outputs": [],
   "source": [
    "pr=PreProcess(df, ddir='data/output.txt', target_col='T (degC)', shift_day=7)"
   ]
  },
  {
   "cell_type": "markdown",
   "metadata": {},
   "source": [
    "# Daily "
   ]
  },
  {
   "cell_type": "code",
   "execution_count": 4,
   "metadata": {},
   "outputs": [
    {
     "name": "stdout",
     "output_type": "stream",
     "text": [
      "1\n",
      "(4320,)\n"
     ]
    }
   ],
   "source": [
    "X_train, y_train, X_test, y_test=pr.split_data(day_number=70, day_pred=30, day_start=0)"
   ]
  },
  {
   "cell_type": "code",
   "execution_count": 6,
   "metadata": {},
   "outputs": [],
   "source": [
    "## Based on the score from LeftOneOUT\n",
    "important_features=['VPmax (mbar)shift-1','wv (m/s)shift-2','T (degC)shift-3','T (degC)shift-2','wv (m/s)shift-1','wv (m/s)shift-5']"
   ]
  },
  {
   "cell_type": "code",
   "execution_count": 7,
   "metadata": {},
   "outputs": [],
   "source": [
    "X_train, y_train, X_test, y_test=X_train[important_features], y_train, X_test[important_features], y_test"
   ]
  },
  {
   "cell_type": "code",
   "execution_count": 7,
   "metadata": {},
   "outputs": [
    {
     "name": "stdout",
     "output_type": "stream",
     "text": [
      "0.004806940221408408\n"
     ]
    }
   ],
   "source": [
    "regressor =OurDecisionTreeRegressor()\n",
    "regressor=regressor.fit(X_train, y_train, min_leaf=10,max_depth=8)\n",
    "pred_dectest = regressor.predict(X_test)\n",
    "daily_scoreDt=Scores.mean_squared_errors(pred_dectest, y_test)\n",
    "print(daily_scoreDt)"
   ]
  },
  {
   "cell_type": "code",
   "execution_count": 8,
   "metadata": {},
   "outputs": [
    {
     "data": {
      "text/plain": [
       "0.003330915881187607"
      ]
     },
     "execution_count": 8,
     "metadata": {},
     "output_type": "execute_result"
    }
   ],
   "source": [
    "rf=OurRandomForestRegressor(X_train, y_train, min_leaf=10,max_depth=8, max_feature=4,\\\n",
    "                            max_sample=int(X_train.shape[0]*0.9),tree_number=20, random_seed=0, bootstrap=False)\n",
    "\n",
    "rf=rf.fit()\n",
    "pred_rftest=rf.predict(X_test)\n",
    "daily_scoreRf=Scores.mean_squared_errors(pred_rftest, y_test)\n",
    "daily_scoreRf"
   ]
  },
  {
   "cell_type": "code",
   "execution_count": 9,
   "metadata": {},
   "outputs": [
    {
     "data": {
      "text/plain": [
       "0.0038815137727477955"
      ]
     },
     "execution_count": 9,
     "metadata": {},
     "output_type": "execute_result"
    }
   ],
   "source": [
    "reg=RandomForestRegressor(max_depth=8, min_samples_leaf=10, n_estimators=20, random_state=0)\n",
    "reg.fit(X_train, y_train)\n",
    "pred_drf=reg.predict(X_test)\n",
    "daily_scoreRFL=Scores.mean_squared_errors(pred_drf, y_test)\n",
    "daily_scoreRFL"
   ]
  },
  {
   "cell_type": "code",
   "execution_count": 10,
   "metadata": {},
   "outputs": [],
   "source": [
    "df_daily=pd.DataFrame({\"Score\":[daily_scoreDt, daily_scoreRf, daily_scoreRFL]}, index=[\"Decision Tree Implement\",'Random forest Implement',\\\n",
    "                                                                   'Random Forest Library'])"
   ]
  },
  {
   "cell_type": "code",
   "execution_count": 11,
   "metadata": {},
   "outputs": [
    {
     "data": {
      "text/html": [
       "<div>\n",
       "<style scoped>\n",
       "    .dataframe tbody tr th:only-of-type {\n",
       "        vertical-align: middle;\n",
       "    }\n",
       "\n",
       "    .dataframe tbody tr th {\n",
       "        vertical-align: top;\n",
       "    }\n",
       "\n",
       "    .dataframe thead th {\n",
       "        text-align: right;\n",
       "    }\n",
       "</style>\n",
       "<table border=\"1\" class=\"dataframe\">\n",
       "  <thead>\n",
       "    <tr style=\"text-align: right;\">\n",
       "      <th></th>\n",
       "      <th>Score</th>\n",
       "    </tr>\n",
       "  </thead>\n",
       "  <tbody>\n",
       "    <tr>\n",
       "      <td>Random forest Implement</td>\n",
       "      <td>0.003331</td>\n",
       "    </tr>\n",
       "    <tr>\n",
       "      <td>Random Forest Library</td>\n",
       "      <td>0.003882</td>\n",
       "    </tr>\n",
       "    <tr>\n",
       "      <td>Decision Tree Implement</td>\n",
       "      <td>0.004807</td>\n",
       "    </tr>\n",
       "  </tbody>\n",
       "</table>\n",
       "</div>"
      ],
      "text/plain": [
       "                            Score\n",
       "Random forest Implement  0.003331\n",
       "Random Forest Library    0.003882\n",
       "Decision Tree Implement  0.004807"
      ]
     },
     "execution_count": 11,
     "metadata": {},
     "output_type": "execute_result"
    }
   ],
   "source": [
    "df_daily.sort_values(by='Score')"
   ]
  },
  {
   "cell_type": "code",
   "execution_count": null,
   "metadata": {},
   "outputs": [],
   "source": []
  },
  {
   "cell_type": "code",
   "execution_count": 12,
   "metadata": {},
   "outputs": [
    {
     "data": {
      "image/png": "[encoded data removed]",
      "text/plain": [
       "<Figure size 1080x1080 with 1 Axes>"
      ]
     },
     "metadata": {
      "needs_background": "light"
     },
     "output_type": "display_data"
    }
   ],
   "source": [
    "k=y_test.copy()\n",
    "k.index=range(0, len(y_test),1)\n",
    "\n",
    "fig=plt.figure(figsize=(15,15))\n",
    "plt.plot(k, 'blue', label='Real Degree')\n",
    "plt.plot(pred_dectest, 'red', label='Decision Tree Predicted Degree')\n",
    "plt.plot(pred_rftest, 'black', label='Our Random Forest Predicted Degree')\n",
    "plt.plot(pred_drf, 'yellow', label='Sklearn RF Predicted Degree')\n",
    "\n",
    "plt.legend()\n",
    "plt.show()"
   ]
  },
  {
   "cell_type": "markdown",
   "metadata": {},
   "source": [
    "# Weekly By Sliding"
   ]
  },
  {
   "cell_type": "code",
   "execution_count": 3,
   "metadata": {},
   "outputs": [],
   "source": [
    "pr=PreProcess(df, ddir='data/output.txt', target_col='T (degC)', shift_day=7)"
   ]
  },
  {
   "cell_type": "code",
   "execution_count": 8,
   "metadata": {},
   "outputs": [
    {
     "data": {
      "application/vnd.jupyter.widget-view+json": {
       "model_id": "1a79c4774f184dc0a49018afbea800ca",
       "version_major": 2,
       "version_minor": 0
      },
      "text/plain": [
       "HBox(children=(IntProgress(value=0, max=7), HTML(value='')))"
      ]
     },
     "metadata": {},
     "output_type": "display_data"
    },
    {
     "name": "stdout",
     "output_type": "stream",
     "text": [
      "1\n",
      "(144,)\n",
      "4465\n",
      "(144,)\n",
      "8497\n",
      "(144,)\n",
      "12961\n",
      "(144,)\n",
      "17281\n",
      "(144,)\n",
      "21745\n",
      "(144,)\n",
      "26065\n",
      "(144,)\n",
      "\n"
     ]
    }
   ],
   "source": [
    "DT_scoresWeek=[]\n",
    "RF_scoresWeek=[]\n",
    "RFL_scoresWeek=[]\n",
    "for i in notebook.tqdm(range(0,7)):\n",
    "    X_train=[] \n",
    "    y_train=[]\n",
    "    X_test=[] \n",
    "    y_test=[]\n",
    "    X_train, y_train, X_test, y_test=pr.split_data(day_number=30, day_start=i, day_pred=1)\n",
    "    X_train, y_train, X_test, y_test=X_train[important_features], y_train, X_test[important_features], y_test\n",
    "    regressor = OurDecisionTreeRegressor()\n",
    "    regressor=regressor.fit(X_train, y_train, min_leaf=10,max_depth=8)\n",
    "    pred_dectest = regressor.predict(X_test)\n",
    "    daily_scoreDt=Scores.mean_squared_errors(pred_dectest, y_test)\n",
    "    DT_scoresWeek.append(daily_scoreDt)\n",
    "    \n",
    "    rf=OurRandomForestRegressor(X_train, y_train, min_leaf=10,max_depth=8, max_feature=4,\\\n",
    "                            max_sample=int(X_train.shape[0]*0.9),tree_number=20, random_seed=0, bootstrap=False)\n",
    "\n",
    "    rf=rf.fit()\n",
    "    pred_rftest=rf.predict(X_test)\n",
    "    daily_scoreRf=Scores.mean_squared_errors(pred_rftest, y_test)\n",
    "    RF_scoresWeek.append(daily_scoreRf)\n",
    "    \n",
    "    reg=RandomForestRegressor(max_depth=8, min_samples_leaf=10, n_estimators=20, random_state=0)\n",
    "    reg.fit(X_train, y_train)\n",
    "    pred_drf=reg.predict(X_test)\n",
    "    daily_scoreRFL=Scores.mean_squared_errors(pred_drf, y_test)\n",
    "    RFL_scoresWeek.append(daily_scoreRFL)"
   ]
  },
  {
   "cell_type": "code",
   "execution_count": 19,
   "metadata": {},
   "outputs": [],
   "source": [
    "df_weekly=pd.DataFrame([DT_scoresWeek, RF_scoresWeek,RFL_scoresWeek], \\\n",
    "                       columns=[\"Day 1 Error\",'Day 2 Error','Day 3 Error', 'Day 4 Error', 'Day5 Error', 'Day 6 Error', 'Day 7 Error'],\n",
    "                       index=['Decision Tree Implementation', 'Random Forest Implementation', 'Random Forest Library'])"
   ]
  },
  {
   "cell_type": "code",
   "execution_count": 20,
   "metadata": {},
   "outputs": [],
   "source": [
    "df_weekly.insert(0, 'Average', df_weekly.mean(axis=1))"
   ]
  },
  {
   "cell_type": "code",
   "execution_count": 22,
   "metadata": {},
   "outputs": [
    {
     "data": {
      "text/html": [
       "<div>\n",
       "<style scoped>\n",
       "    .dataframe tbody tr th:only-of-type {\n",
       "        vertical-align: middle;\n",
       "    }\n",
       "\n",
       "    .dataframe tbody tr th {\n",
       "        vertical-align: top;\n",
       "    }\n",
       "\n",
       "    .dataframe thead th {\n",
       "        text-align: right;\n",
       "    }\n",
       "</style>\n",
       "<table border=\"1\" class=\"dataframe\">\n",
       "  <thead>\n",
       "    <tr style=\"text-align: right;\">\n",
       "      <th></th>\n",
       "      <th>Average</th>\n",
       "      <th>Day 1 Error</th>\n",
       "      <th>Day 2 Error</th>\n",
       "      <th>Day 3 Error</th>\n",
       "      <th>Day 4 Error</th>\n",
       "      <th>Day5 Error</th>\n",
       "      <th>Day 6 Error</th>\n",
       "      <th>Day 7 Error</th>\n",
       "    </tr>\n",
       "  </thead>\n",
       "  <tbody>\n",
       "    <tr>\n",
       "      <td>Random Forest Implementation</td>\n",
       "      <td>0.089821</td>\n",
       "      <td>0.003331</td>\n",
       "      <td>0.005477</td>\n",
       "      <td>0.040687</td>\n",
       "      <td>0.102720</td>\n",
       "      <td>0.051298</td>\n",
       "      <td>0.046644</td>\n",
       "      <td>0.378590</td>\n",
       "    </tr>\n",
       "    <tr>\n",
       "      <td>Decision Tree Implementation</td>\n",
       "      <td>0.097035</td>\n",
       "      <td>0.004807</td>\n",
       "      <td>0.007531</td>\n",
       "      <td>0.043144</td>\n",
       "      <td>0.105929</td>\n",
       "      <td>0.056467</td>\n",
       "      <td>0.055256</td>\n",
       "      <td>0.406109</td>\n",
       "    </tr>\n",
       "    <tr>\n",
       "      <td>Random Forest Library</td>\n",
       "      <td>0.103298</td>\n",
       "      <td>0.003882</td>\n",
       "      <td>0.004699</td>\n",
       "      <td>0.039168</td>\n",
       "      <td>0.102131</td>\n",
       "      <td>0.054509</td>\n",
       "      <td>0.042049</td>\n",
       "      <td>0.476647</td>\n",
       "    </tr>\n",
       "  </tbody>\n",
       "</table>\n",
       "</div>"
      ],
      "text/plain": [
       "                               Average  Day 1 Error  Day 2 Error  Day 3 Error  \\\n",
       "Random Forest Implementation  0.089821     0.003331     0.005477     0.040687   \n",
       "Decision Tree Implementation  0.097035     0.004807     0.007531     0.043144   \n",
       "Random Forest Library         0.103298     0.003882     0.004699     0.039168   \n",
       "\n",
       "                              Day 4 Error  Day5 Error  Day 6 Error  \\\n",
       "Random Forest Implementation     0.102720    0.051298     0.046644   \n",
       "Decision Tree Implementation     0.105929    0.056467     0.055256   \n",
       "Random Forest Library            0.102131    0.054509     0.042049   \n",
       "\n",
       "                              Day 7 Error  \n",
       "Random Forest Implementation     0.378590  \n",
       "Decision Tree Implementation     0.406109  \n",
       "Random Forest Library            0.476647  "
      ]
     },
     "execution_count": 22,
     "metadata": {},
     "output_type": "execute_result"
    }
   ],
   "source": [
    "df_weekly.sort_values(by='Average')"
   ]
  },
  {
   "cell_type": "markdown",
   "metadata": {},
   "source": [
    "# Monthly "
   ]
  },
  {
   "cell_type": "code",
   "execution_count": 7,
   "metadata": {},
   "outputs": [],
   "source": [
    "pr=PreProcess(df, ddir='data/output.txt', target_col='T (degC)', shift_day=7)"
   ]
  },
  {
   "cell_type": "code",
   "execution_count": 8,
   "metadata": {},
   "outputs": [
    {
     "name": "stdout",
     "output_type": "stream",
     "text": [
      "1\n",
      "(4320,)\n"
     ]
    }
   ],
   "source": [
    "X_train, y_train, X_test, y_test=pr.split_data(day_number=70, day_pred=30, day_start=0)"
   ]
  },
  {
   "cell_type": "code",
   "execution_count": 9,
   "metadata": {},
   "outputs": [],
   "source": [
    "X_train, y_train, X_test, y_test=X_train[important_features], y_train, X_test[important_features], y_test"
   ]
  },
  {
   "cell_type": "code",
   "execution_count": 10,
   "metadata": {},
   "outputs": [
    {
     "name": "stdout",
     "output_type": "stream",
     "text": [
      "5.724813743524101\n"
     ]
    }
   ],
   "source": [
    "regressor =OurDecisionTreeRegressor()\n",
    "regressor=regressor.fit(X_train, y_train, min_leaf=10,max_depth=8)\n",
    "pred_dectest = regressor.predict(X_test)\n",
    "daily_scoreDt=Scores.mean_squared_errors(pred_dectest, y_test)\n",
    "print(daily_scoreDt)"
   ]
  },
  {
   "cell_type": "code",
   "execution_count": 12,
   "metadata": {},
   "outputs": [
    {
     "data": {
      "text/plain": [
       "5.659833136054634"
      ]
     },
     "execution_count": 12,
     "metadata": {},
     "output_type": "execute_result"
    }
   ],
   "source": [
    "rf=OurRandomForestRegressor(X_train, y_train, min_leaf=10,max_depth=8, max_feature=4,\\\n",
    "                            max_sample=int(X_train.shape[0]*0.9),tree_number=20, random_seed=0, bootstrap=False)\n",
    "\n",
    "rf=rf.fit()\n",
    "pred_rftest=rf.predict(X_test)\n",
    "daily_scoreRf=Scores.mean_squared_errors(pred_rftest, y_test)\n",
    "daily_scoreRf"
   ]
  },
  {
   "cell_type": "code",
   "execution_count": 11,
   "metadata": {},
   "outputs": [
    {
     "data": {
      "text/plain": [
       "5.475431469180387"
      ]
     },
     "execution_count": 11,
     "metadata": {},
     "output_type": "execute_result"
    }
   ],
   "source": [
    "reg=RandomForestRegressor(max_depth=8, min_samples_leaf=10, n_estimators=20, random_state=0)\n",
    "reg.fit(X_train, y_train)\n",
    "pred_drf=reg.predict(X_test)\n",
    "daily_scoreRFL=Scores.mean_squared_errors(pred_drf, y_test)\n",
    "daily_scoreRFL"
   ]
  },
  {
   "cell_type": "code",
   "execution_count": 11,
   "metadata": {},
   "outputs": [
    {
     "data": {
      "application/vnd.jupyter.widget-view+json": {
       "model_id": "81f2b6e5ec0c483588b3efa4500e7a34",
       "version_major": 2,
       "version_minor": 0
      },
      "text/plain": [
       "HBox(children=(IntProgress(value=0, max=30), HTML(value='')))"
      ]
     },
     "metadata": {},
     "output_type": "display_data"
    },
    {
     "name": "stdout",
     "output_type": "stream",
     "text": [
      "1\n",
      "(144,)\n",
      "4465\n",
      "(144,)\n",
      "8497\n",
      "(144,)\n",
      "12961\n",
      "(144,)\n",
      "17281\n",
      "(144,)\n",
      "21745\n",
      "(144,)\n",
      "26065\n",
      "(144,)\n",
      "30529\n",
      "(144,)\n",
      "34993\n",
      "(144,)\n",
      "39313\n",
      "(144,)\n",
      "43777\n",
      "(144,)\n",
      "48097\n",
      "(144,)\n",
      "1729\n",
      "(144,)\n",
      "1873\n",
      "(144,)\n",
      "2017\n",
      "(144,)\n",
      "2161\n",
      "(144,)\n",
      "2305\n",
      "(144,)\n",
      "2449\n",
      "(144,)\n",
      "2593\n",
      "(144,)\n",
      "2737\n",
      "(144,)\n",
      "2881\n",
      "(144,)\n",
      "3025\n",
      "(144,)\n",
      "3169\n",
      "(144,)\n",
      "3313\n",
      "(144,)\n",
      "3457\n",
      "(144,)\n",
      "3601\n",
      "(144,)\n",
      "3745\n",
      "(144,)\n",
      "3889\n",
      "(144,)\n",
      "4033\n",
      "(144,)\n",
      "4177\n",
      "(144,)\n",
      "\n"
     ]
    }
   ],
   "source": [
    "DT_scoresMonth=[]\n",
    "DTL_scoresMonth=[]\n",
    "RF_scoresMonth=[]\n",
    "RFL_scoresMonth=[]\n",
    "for i in notebook.tqdm(range(0,30)):\n",
    "    X_train=[] \n",
    "    y_train=[]\n",
    "    X_test=[] \n",
    "    y_test=[]\n",
    "    X_train, y_train, X_test, y_test=pr.split_data(day_number=30, day_start=i, day_pred=1)\n",
    "    X_train, y_train, X_test, y_test=X_train[important_features], y_train, X_test[important_features], y_test\n",
    "    regressor = OurDecisionTreeRegressor()\n",
    "    regressor=regressor.fit(X_train, y_train, min_leaf=10,max_depth=8)\n",
    "    pred_dectest = regressor.predict(X_test)\n",
    "    daily_scoreDt=Scores.mean_squared_errors(pred_dectest, y_test)\n",
    "    DT_scoresMonth.append(daily_scoreDt)\n",
    "    \n",
    "    regressordtl = DecisionTreeRegressor(random_state=0, max_depth=8)\n",
    "    regressordtl=regressordtl.fit(X_train, y_train)\n",
    "    pred_dectltest=regressordtl.predict(X_test)\n",
    "    daily_scoreDtl=Scores.mean_squared_errors(pred_dectltest, y_test)\n",
    "    DTL_scoresMonth.append(daily_scoreDtl)\n",
    "    \n",
    "    rf=OurRandomForestRegressor(X_train, y_train, min_leaf=10,max_depth=8, max_feature=4,\\\n",
    "                            max_sample=int(X_train.shape[0]*0.9),tree_number=20, random_seed=0, bootstrap=False)\n",
    "\n",
    "    rf=rf.fit()\n",
    "    pred_rftest=rf.predict(X_test)\n",
    "    daily_scoreRf=Scores.mean_squared_errors(pred_rftest, y_test)\n",
    "    RF_scoresMonth.append(daily_scoreRf)\n",
    "    \n",
    "    reg=RandomForestRegressor(max_depth=8, min_samples_leaf=10, n_estimators=20, random_state=0)\n",
    "    reg.fit(X_train, y_train)\n",
    "    pred_drf=reg.predict(X_test)\n",
    "    daily_scoreRFL=Scores.mean_squared_errors(pred_drf, y_test)\n",
    "    RFL_scoresMonth.append(daily_scoreRFL)\n",
    "    \n",
    "    "
   ]
  },
  {
   "cell_type": "code",
   "execution_count": null,
   "metadata": {},
   "outputs": [],
   "source": []
  },
  {
   "cell_type": "code",
   "execution_count": 12,
   "metadata": {},
   "outputs": [],
   "source": [
    "df_monthly=pd.DataFrame([DT_scoresMonth, DTL_scoresMonth,RF_scoresMonth,RFL_scoresMonth], \\\n",
    "                       columns=[\"Day 1 Error\",'Day 2 Error','Day 3 Error', 'Day 4 Error', 'Day5 Error', 'Day 6 Error', 'Day 7 Error',\n",
    "                               \"Day 8 Error\",'Day 9 Error','Day 10 Error', 'Day 11 Error', 'Day 12 Error', 'Day 13 Error', 'Day 14 Error',\n",
    "                               \"Day 15 Error\",'Day 16 Error','Day 17 Error', 'Day 18 Error', 'Day 19 Error', 'Day 20 Error', 'Day 21 Error',\n",
    "                               \"Day 22 Error\",'Day 23 Error','Day 24 Error', 'Day 25 Error', 'Day 26 Error', 'Day 27 Error', 'Day 28 Error',\n",
    "                               \"Day 29 Error\",'Day 30 Error'],\n",
    "                       index=['Decision Tree Implementation','Decision Tree Library','Random Forest Implementation', 'Random Forest Library'])"
   ]
  },
  {
   "cell_type": "code",
   "execution_count": null,
   "metadata": {},
   "outputs": [],
   "source": []
  },
  {
   "cell_type": "code",
   "execution_count": 13,
   "metadata": {},
   "outputs": [],
   "source": [
    "df_monthly.insert(0, 'Average', df_monthly.mean(axis=1))"
   ]
  },
  {
   "cell_type": "code",
   "execution_count": 18,
   "metadata": {},
   "outputs": [],
   "source": [
    "decisionTreesCompareMonthly=df_monthly.iloc[:2]"
   ]
  },
  {
   "cell_type": "code",
   "execution_count": 19,
   "metadata": {},
   "outputs": [
    {
     "data": {
      "text/html": [
       "<div>\n",
       "<style scoped>\n",
       "    .dataframe tbody tr th:only-of-type {\n",
       "        vertical-align: middle;\n",
       "    }\n",
       "\n",
       "    .dataframe tbody tr th {\n",
       "        vertical-align: top;\n",
       "    }\n",
       "\n",
       "    .dataframe thead th {\n",
       "        text-align: right;\n",
       "    }\n",
       "</style>\n",
       "<table border=\"1\" class=\"dataframe\">\n",
       "  <thead>\n",
       "    <tr style=\"text-align: right;\">\n",
       "      <th></th>\n",
       "      <th>Average</th>\n",
       "      <th>Day 1 Error</th>\n",
       "      <th>Day 2 Error</th>\n",
       "      <th>Day 3 Error</th>\n",
       "      <th>Day 4 Error</th>\n",
       "      <th>Day5 Error</th>\n",
       "      <th>Day 6 Error</th>\n",
       "      <th>Day 7 Error</th>\n",
       "      <th>Day 8 Error</th>\n",
       "      <th>Day 9 Error</th>\n",
       "      <th>...</th>\n",
       "      <th>Day 21 Error</th>\n",
       "      <th>Day 22 Error</th>\n",
       "      <th>Day 23 Error</th>\n",
       "      <th>Day 24 Error</th>\n",
       "      <th>Day 25 Error</th>\n",
       "      <th>Day 26 Error</th>\n",
       "      <th>Day 27 Error</th>\n",
       "      <th>Day 28 Error</th>\n",
       "      <th>Day 29 Error</th>\n",
       "      <th>Day 30 Error</th>\n",
       "    </tr>\n",
       "  </thead>\n",
       "  <tbody>\n",
       "    <tr>\n",
       "      <td>Decision Tree Implementation</td>\n",
       "      <td>0.178371</td>\n",
       "      <td>0.004807</td>\n",
       "      <td>0.007531</td>\n",
       "      <td>0.043144</td>\n",
       "      <td>0.105929</td>\n",
       "      <td>0.056467</td>\n",
       "      <td>0.055256</td>\n",
       "      <td>0.406109</td>\n",
       "      <td>0.049174</td>\n",
       "      <td>0.047738</td>\n",
       "      <td>...</td>\n",
       "      <td>0.017368</td>\n",
       "      <td>0.012057</td>\n",
       "      <td>0.031533</td>\n",
       "      <td>0.024281</td>\n",
       "      <td>0.012706</td>\n",
       "      <td>0.035947</td>\n",
       "      <td>0.021196</td>\n",
       "      <td>0.041156</td>\n",
       "      <td>0.068035</td>\n",
       "      <td>1.398633</td>\n",
       "    </tr>\n",
       "    <tr>\n",
       "      <td>Decision Tree Library</td>\n",
       "      <td>0.181598</td>\n",
       "      <td>0.005207</td>\n",
       "      <td>0.006401</td>\n",
       "      <td>0.060900</td>\n",
       "      <td>0.107412</td>\n",
       "      <td>0.085761</td>\n",
       "      <td>0.055373</td>\n",
       "      <td>0.349823</td>\n",
       "      <td>0.039302</td>\n",
       "      <td>0.049974</td>\n",
       "      <td>...</td>\n",
       "      <td>0.018311</td>\n",
       "      <td>0.016503</td>\n",
       "      <td>0.034069</td>\n",
       "      <td>0.021759</td>\n",
       "      <td>0.007208</td>\n",
       "      <td>0.051105</td>\n",
       "      <td>0.034845</td>\n",
       "      <td>0.033255</td>\n",
       "      <td>0.058368</td>\n",
       "      <td>1.253330</td>\n",
       "    </tr>\n",
       "  </tbody>\n",
       "</table>\n",
       "<p>2 rows × 31 columns</p>\n",
       "</div>"
      ],
      "text/plain": [
       "                               Average  Day 1 Error  Day 2 Error  Day 3 Error  \\\n",
       "Decision Tree Implementation  0.178371     0.004807     0.007531     0.043144   \n",
       "Decision Tree Library         0.181598     0.005207     0.006401     0.060900   \n",
       "\n",
       "                              Day 4 Error  Day5 Error  Day 6 Error  \\\n",
       "Decision Tree Implementation     0.105929    0.056467     0.055256   \n",
       "Decision Tree Library            0.107412    0.085761     0.055373   \n",
       "\n",
       "                              Day 7 Error  Day 8 Error  Day 9 Error  ...  \\\n",
       "Decision Tree Implementation     0.406109     0.049174     0.047738  ...   \n",
       "Decision Tree Library            0.349823     0.039302     0.049974  ...   \n",
       "\n",
       "                              Day 21 Error  Day 22 Error  Day 23 Error  \\\n",
       "Decision Tree Implementation      0.017368      0.012057      0.031533   \n",
       "Decision Tree Library             0.018311      0.016503      0.034069   \n",
       "\n",
       "                              Day 24 Error  Day 25 Error  Day 26 Error  \\\n",
       "Decision Tree Implementation      0.024281      0.012706      0.035947   \n",
       "Decision Tree Library             0.021759      0.007208      0.051105   \n",
       "\n",
       "                              Day 27 Error  Day 28 Error  Day 29 Error  \\\n",
       "Decision Tree Implementation      0.021196      0.041156      0.068035   \n",
       "Decision Tree Library             0.034845      0.033255      0.058368   \n",
       "\n",
       "                              Day 30 Error  \n",
       "Decision Tree Implementation      1.398633  \n",
       "Decision Tree Library             1.253330  \n",
       "\n",
       "[2 rows x 31 columns]"
      ]
     },
     "execution_count": 19,
     "metadata": {},
     "output_type": "execute_result"
    }
   ],
   "source": [
    "decisionTreesCompareMonthly"
   ]
  },
  {
   "cell_type": "code",
   "execution_count": 23,
   "metadata": {},
   "outputs": [],
   "source": [
    "RandomForestCompareMonthly=df_monthly.iloc[2:]"
   ]
  },
  {
   "cell_type": "code",
   "execution_count": 24,
   "metadata": {},
   "outputs": [
    {
     "data": {
      "text/html": [
       "<div>\n",
       "<style scoped>\n",
       "    .dataframe tbody tr th:only-of-type {\n",
       "        vertical-align: middle;\n",
       "    }\n",
       "\n",
       "    .dataframe tbody tr th {\n",
       "        vertical-align: top;\n",
       "    }\n",
       "\n",
       "    .dataframe thead th {\n",
       "        text-align: right;\n",
       "    }\n",
       "</style>\n",
       "<table border=\"1\" class=\"dataframe\">\n",
       "  <thead>\n",
       "    <tr style=\"text-align: right;\">\n",
       "      <th></th>\n",
       "      <th>Average</th>\n",
       "      <th>Day 1 Error</th>\n",
       "      <th>Day 2 Error</th>\n",
       "      <th>Day 3 Error</th>\n",
       "      <th>Day 4 Error</th>\n",
       "      <th>Day5 Error</th>\n",
       "      <th>Day 6 Error</th>\n",
       "      <th>Day 7 Error</th>\n",
       "      <th>Day 8 Error</th>\n",
       "      <th>Day 9 Error</th>\n",
       "      <th>...</th>\n",
       "      <th>Day 21 Error</th>\n",
       "      <th>Day 22 Error</th>\n",
       "      <th>Day 23 Error</th>\n",
       "      <th>Day 24 Error</th>\n",
       "      <th>Day 25 Error</th>\n",
       "      <th>Day 26 Error</th>\n",
       "      <th>Day 27 Error</th>\n",
       "      <th>Day 28 Error</th>\n",
       "      <th>Day 29 Error</th>\n",
       "      <th>Day 30 Error</th>\n",
       "    </tr>\n",
       "  </thead>\n",
       "  <tbody>\n",
       "    <tr>\n",
       "      <td>Random Forest Implementation</td>\n",
       "      <td>0.175088</td>\n",
       "      <td>0.003331</td>\n",
       "      <td>0.005477</td>\n",
       "      <td>0.040687</td>\n",
       "      <td>0.102720</td>\n",
       "      <td>0.051298</td>\n",
       "      <td>0.046644</td>\n",
       "      <td>0.378590</td>\n",
       "      <td>0.033732</td>\n",
       "      <td>0.039803</td>\n",
       "      <td>...</td>\n",
       "      <td>0.012713</td>\n",
       "      <td>0.006896</td>\n",
       "      <td>0.018342</td>\n",
       "      <td>0.017727</td>\n",
       "      <td>0.006858</td>\n",
       "      <td>0.032195</td>\n",
       "      <td>0.013365</td>\n",
       "      <td>0.025822</td>\n",
       "      <td>0.050073</td>\n",
       "      <td>1.370493</td>\n",
       "    </tr>\n",
       "    <tr>\n",
       "      <td>Random Forest Library</td>\n",
       "      <td>0.178941</td>\n",
       "      <td>0.003882</td>\n",
       "      <td>0.004699</td>\n",
       "      <td>0.039168</td>\n",
       "      <td>0.102131</td>\n",
       "      <td>0.054509</td>\n",
       "      <td>0.042049</td>\n",
       "      <td>0.476647</td>\n",
       "      <td>0.031964</td>\n",
       "      <td>0.039643</td>\n",
       "      <td>...</td>\n",
       "      <td>0.014285</td>\n",
       "      <td>0.007933</td>\n",
       "      <td>0.012390</td>\n",
       "      <td>0.018544</td>\n",
       "      <td>0.005480</td>\n",
       "      <td>0.033094</td>\n",
       "      <td>0.012864</td>\n",
       "      <td>0.018068</td>\n",
       "      <td>0.030953</td>\n",
       "      <td>1.152813</td>\n",
       "    </tr>\n",
       "  </tbody>\n",
       "</table>\n",
       "<p>2 rows × 31 columns</p>\n",
       "</div>"
      ],
      "text/plain": [
       "                               Average  Day 1 Error  Day 2 Error  Day 3 Error  \\\n",
       "Random Forest Implementation  0.175088     0.003331     0.005477     0.040687   \n",
       "Random Forest Library         0.178941     0.003882     0.004699     0.039168   \n",
       "\n",
       "                              Day 4 Error  Day5 Error  Day 6 Error  \\\n",
       "Random Forest Implementation     0.102720    0.051298     0.046644   \n",
       "Random Forest Library            0.102131    0.054509     0.042049   \n",
       "\n",
       "                              Day 7 Error  Day 8 Error  Day 9 Error  ...  \\\n",
       "Random Forest Implementation     0.378590     0.033732     0.039803  ...   \n",
       "Random Forest Library            0.476647     0.031964     0.039643  ...   \n",
       "\n",
       "                              Day 21 Error  Day 22 Error  Day 23 Error  \\\n",
       "Random Forest Implementation      0.012713      0.006896      0.018342   \n",
       "Random Forest Library             0.014285      0.007933      0.012390   \n",
       "\n",
       "                              Day 24 Error  Day 25 Error  Day 26 Error  \\\n",
       "Random Forest Implementation      0.017727      0.006858      0.032195   \n",
       "Random Forest Library             0.018544      0.005480      0.033094   \n",
       "\n",
       "                              Day 27 Error  Day 28 Error  Day 29 Error  \\\n",
       "Random Forest Implementation      0.013365      0.025822      0.050073   \n",
       "Random Forest Library             0.012864      0.018068      0.030953   \n",
       "\n",
       "                              Day 30 Error  \n",
       "Random Forest Implementation      1.370493  \n",
       "Random Forest Library             1.152813  \n",
       "\n",
       "[2 rows x 31 columns]"
      ]
     },
     "execution_count": 24,
     "metadata": {},
     "output_type": "execute_result"
    }
   ],
   "source": [
    "RandomForestCompareMonthly"
   ]
  },
  {
   "cell_type": "code",
   "execution_count": 14,
   "metadata": {},
   "outputs": [
    {
     "data": {
      "text/html": [
       "<div>\n",
       "<style scoped>\n",
       "    .dataframe tbody tr th:only-of-type {\n",
       "        vertical-align: middle;\n",
       "    }\n",
       "\n",
       "    .dataframe tbody tr th {\n",
       "        vertical-align: top;\n",
       "    }\n",
       "\n",
       "    .dataframe thead th {\n",
       "        text-align: right;\n",
       "    }\n",
       "</style>\n",
       "<table border=\"1\" class=\"dataframe\">\n",
       "  <thead>\n",
       "    <tr style=\"text-align: right;\">\n",
       "      <th></th>\n",
       "      <th>Average</th>\n",
       "      <th>Day 1 Error</th>\n",
       "      <th>Day 2 Error</th>\n",
       "      <th>Day 3 Error</th>\n",
       "      <th>Day 4 Error</th>\n",
       "      <th>Day5 Error</th>\n",
       "      <th>Day 6 Error</th>\n",
       "      <th>Day 7 Error</th>\n",
       "      <th>Day 8 Error</th>\n",
       "      <th>Day 9 Error</th>\n",
       "      <th>...</th>\n",
       "      <th>Day 21 Error</th>\n",
       "      <th>Day 22 Error</th>\n",
       "      <th>Day 23 Error</th>\n",
       "      <th>Day 24 Error</th>\n",
       "      <th>Day 25 Error</th>\n",
       "      <th>Day 26 Error</th>\n",
       "      <th>Day 27 Error</th>\n",
       "      <th>Day 28 Error</th>\n",
       "      <th>Day 29 Error</th>\n",
       "      <th>Day 30 Error</th>\n",
       "    </tr>\n",
       "  </thead>\n",
       "  <tbody>\n",
       "    <tr>\n",
       "      <td>Random Forest Implementation</td>\n",
       "      <td>0.175088</td>\n",
       "      <td>0.003331</td>\n",
       "      <td>0.005477</td>\n",
       "      <td>0.040687</td>\n",
       "      <td>0.102720</td>\n",
       "      <td>0.051298</td>\n",
       "      <td>0.046644</td>\n",
       "      <td>0.378590</td>\n",
       "      <td>0.033732</td>\n",
       "      <td>0.039803</td>\n",
       "      <td>...</td>\n",
       "      <td>0.012713</td>\n",
       "      <td>0.006896</td>\n",
       "      <td>0.018342</td>\n",
       "      <td>0.017727</td>\n",
       "      <td>0.006858</td>\n",
       "      <td>0.032195</td>\n",
       "      <td>0.013365</td>\n",
       "      <td>0.025822</td>\n",
       "      <td>0.050073</td>\n",
       "      <td>1.370493</td>\n",
       "    </tr>\n",
       "    <tr>\n",
       "      <td>Decision Tree Implementation</td>\n",
       "      <td>0.178371</td>\n",
       "      <td>0.004807</td>\n",
       "      <td>0.007531</td>\n",
       "      <td>0.043144</td>\n",
       "      <td>0.105929</td>\n",
       "      <td>0.056467</td>\n",
       "      <td>0.055256</td>\n",
       "      <td>0.406109</td>\n",
       "      <td>0.049174</td>\n",
       "      <td>0.047738</td>\n",
       "      <td>...</td>\n",
       "      <td>0.017368</td>\n",
       "      <td>0.012057</td>\n",
       "      <td>0.031533</td>\n",
       "      <td>0.024281</td>\n",
       "      <td>0.012706</td>\n",
       "      <td>0.035947</td>\n",
       "      <td>0.021196</td>\n",
       "      <td>0.041156</td>\n",
       "      <td>0.068035</td>\n",
       "      <td>1.398633</td>\n",
       "    </tr>\n",
       "    <tr>\n",
       "      <td>Random Forest Library</td>\n",
       "      <td>0.178941</td>\n",
       "      <td>0.003882</td>\n",
       "      <td>0.004699</td>\n",
       "      <td>0.039168</td>\n",
       "      <td>0.102131</td>\n",
       "      <td>0.054509</td>\n",
       "      <td>0.042049</td>\n",
       "      <td>0.476647</td>\n",
       "      <td>0.031964</td>\n",
       "      <td>0.039643</td>\n",
       "      <td>...</td>\n",
       "      <td>0.014285</td>\n",
       "      <td>0.007933</td>\n",
       "      <td>0.012390</td>\n",
       "      <td>0.018544</td>\n",
       "      <td>0.005480</td>\n",
       "      <td>0.033094</td>\n",
       "      <td>0.012864</td>\n",
       "      <td>0.018068</td>\n",
       "      <td>0.030953</td>\n",
       "      <td>1.152813</td>\n",
       "    </tr>\n",
       "    <tr>\n",
       "      <td>Decision Tree Library</td>\n",
       "      <td>0.181598</td>\n",
       "      <td>0.005207</td>\n",
       "      <td>0.006401</td>\n",
       "      <td>0.060900</td>\n",
       "      <td>0.107412</td>\n",
       "      <td>0.085761</td>\n",
       "      <td>0.055373</td>\n",
       "      <td>0.349823</td>\n",
       "      <td>0.039302</td>\n",
       "      <td>0.049974</td>\n",
       "      <td>...</td>\n",
       "      <td>0.018311</td>\n",
       "      <td>0.016503</td>\n",
       "      <td>0.034069</td>\n",
       "      <td>0.021759</td>\n",
       "      <td>0.007208</td>\n",
       "      <td>0.051105</td>\n",
       "      <td>0.034845</td>\n",
       "      <td>0.033255</td>\n",
       "      <td>0.058368</td>\n",
       "      <td>1.253330</td>\n",
       "    </tr>\n",
       "  </tbody>\n",
       "</table>\n",
       "<p>4 rows × 31 columns</p>\n",
       "</div>"
      ],
      "text/plain": [
       "                               Average  Day 1 Error  Day 2 Error  Day 3 Error  \\\n",
       "Random Forest Implementation  0.175088     0.003331     0.005477     0.040687   \n",
       "Decision Tree Implementation  0.178371     0.004807     0.007531     0.043144   \n",
       "Random Forest Library         0.178941     0.003882     0.004699     0.039168   \n",
       "Decision Tree Library         0.181598     0.005207     0.006401     0.060900   \n",
       "\n",
       "                              Day 4 Error  Day5 Error  Day 6 Error  \\\n",
       "Random Forest Implementation     0.102720    0.051298     0.046644   \n",
       "Decision Tree Implementation     0.105929    0.056467     0.055256   \n",
       "Random Forest Library            0.102131    0.054509     0.042049   \n",
       "Decision Tree Library            0.107412    0.085761     0.055373   \n",
       "\n",
       "                              Day 7 Error  Day 8 Error  Day 9 Error  ...  \\\n",
       "Random Forest Implementation     0.378590     0.033732     0.039803  ...   \n",
       "Decision Tree Implementation     0.406109     0.049174     0.047738  ...   \n",
       "Random Forest Library            0.476647     0.031964     0.039643  ...   \n",
       "Decision Tree Library            0.349823     0.039302     0.049974  ...   \n",
       "\n",
       "                              Day 21 Error  Day 22 Error  Day 23 Error  \\\n",
       "Random Forest Implementation      0.012713      0.006896      0.018342   \n",
       "Decision Tree Implementation      0.017368      0.012057      0.031533   \n",
       "Random Forest Library             0.014285      0.007933      0.012390   \n",
       "Decision Tree Library             0.018311      0.016503      0.034069   \n",
       "\n",
       "                              Day 24 Error  Day 25 Error  Day 26 Error  \\\n",
       "Random Forest Implementation      0.017727      0.006858      0.032195   \n",
       "Decision Tree Implementation      0.024281      0.012706      0.035947   \n",
       "Random Forest Library             0.018544      0.005480      0.033094   \n",
       "Decision Tree Library             0.021759      0.007208      0.051105   \n",
       "\n",
       "                              Day 27 Error  Day 28 Error  Day 29 Error  \\\n",
       "Random Forest Implementation      0.013365      0.025822      0.050073   \n",
       "Decision Tree Implementation      0.021196      0.041156      0.068035   \n",
       "Random Forest Library             0.012864      0.018068      0.030953   \n",
       "Decision Tree Library             0.034845      0.033255      0.058368   \n",
       "\n",
       "                              Day 30 Error  \n",
       "Random Forest Implementation      1.370493  \n",
       "Decision Tree Implementation      1.398633  \n",
       "Random Forest Library             1.152813  \n",
       "Decision Tree Library             1.253330  \n",
       "\n",
       "[4 rows x 31 columns]"
      ]
     },
     "execution_count": 14,
     "metadata": {},
     "output_type": "execute_result"
    }
   ],
   "source": [
    "df_monthly.sort_values(by='Average')"
   ]
  }
 ],
 "metadata": {
  "kernelspec": {
   "display_name": "Python 3",
   "language": "python",
   "name": "python3"
  },
  "language_info": {
   "codemirror_mode": {
    "name": "ipython",
    "version": 3
   },
   "file_extension": ".py",
   "mimetype": "text/x-python",
   "name": "python",
   "nbconvert_exporter": "python",
   "pygments_lexer": "ipython3",
   "version": "3.7.4"
  }
 },
 "nbformat": 4,
 "nbformat_minor": 2
}
